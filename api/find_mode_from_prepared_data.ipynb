{
 "cells": [
  {
   "cell_type": "code",
   "execution_count": 21,
   "id": "927ab803-9b9c-45cb-be1d-d635e68df6bc",
   "metadata": {},
   "outputs": [],
   "source": [
    "import pandas as pd\n",
    "\n",
    "df = pd.read_csv('prepared_data.csv')\n"
   ]
  },
  {
   "cell_type": "markdown",
   "id": "d7d084f7-186f-407a-b335-9e0f322e1728",
   "metadata": {},
   "source": [
    "# Find the modes / means of prepared data for default form values"
   ]
  },
  {
   "cell_type": "code",
   "execution_count": 22,
   "id": "31303040-efac-47c1-a253-fe318404c5d3",
   "metadata": {},
   "outputs": [],
   "source": [
    "mode_values = df.mode().iloc[0]"
   ]
  },
  {
   "cell_type": "code",
   "execution_count": 23,
   "id": "96e97ead-a5db-49d5-9469-eec2693ebdac",
   "metadata": {},
   "outputs": [],
   "source": [
    "numeric_cols = {\n",
    "    \"Financial Aid Offered Amount\": \"Financial Aid Offered Amount\",\n",
    "    \"Counselor Incoming Text Count\": \"incoming_text_count\",\n",
    "    \"Counselor Outgoing Text Count\": \"outgoing_text_count\",\n",
    "    \"Phone Successful Count\": \"phone_successful_count\",\n",
    "    \"Phone Unsuccessful Count\": \"phone_unsuccessful_count\",\n",
    "    \"Phone Voicemail Count\": \"phone_voicemail_count\",\n",
    "    \"Events Attended Count\": \"Events Attended Count\"\n",
    "}\n"
   ]
  },
  {
   "cell_type": "code",
   "execution_count": 24,
   "id": "f6d071e1-95d0-4015-a1bc-6f0230130e96",
   "metadata": {},
   "outputs": [],
   "source": [
    "def modify_mode(column, value):\n",
    "    if value == 0.0:\n",
    "        if column in numeric_cols.values():\n",
    "            return round(df[column][df[column] != 0.0].mean(), 1)\n",
    "        else:\n",
    "            return 0.0\n",
    "    elif value == 'Y':\n",
    "        return 1.0\n",
    "    elif value == 'N':\n",
    "        return 0.0\n",
    "    else:\n",
    "        return value"
   ]
  },
  {
   "cell_type": "code",
   "execution_count": 25,
   "id": "8446d86e-adb9-440d-a103-9dfc22232170",
   "metadata": {},
   "outputs": [],
   "source": [
    "modified_modes = mode_values.index.to_series().apply(lambda column: modify_mode(column, mode_values[column]))"
   ]
  },
  {
   "cell_type": "code",
   "execution_count": 26,
   "id": "3252c5c9-9efd-43c5-b662-7e45e0565ba5",
   "metadata": {},
   "outputs": [
    {
     "data": {
      "text/plain": [
       "State                                                               OK\n",
       "Country                                                            USA\n",
       "Gender                                                               F\n",
       "Ethnicity                                                 Not Declared\n",
       "Origin Source                                              Falls Creek\n",
       "Student Type                                       First-Time Freshman\n",
       "Major                                                        Undecided\n",
       "Financial Aid Offered Amount                                   24724.1\n",
       "Athlete                                                   Not Declared\n",
       "Sport                                                     Not Declared\n",
       "Raley College Tag Exists                                           1.0\n",
       "Recruiting Territory                                     Raley College\n",
       "Counselor                                                          C11\n",
       "ID                                    00004c31ce07c22148ee37acd0f814b9\n",
       "incoming_text_count                                                5.6\n",
       "outgoing_text_count                                               14.3\n",
       "phone_successful_count                                             2.1\n",
       "phone_unsuccessful_count                                           2.0\n",
       "phone_voicemail_count                                              3.1\n",
       "Admitted Students Day                                              0.0\n",
       "Bison Day                                                          0.0\n",
       "Bison Day @ The Weekend                                            0.0\n",
       "Campus Visit                                                       0.0\n",
       "Dallas Bison Exclusive                                             0.0\n",
       "Football Visit                                                     0.0\n",
       "Golf Visit                                                         0.0\n",
       "Oklahoma City Bison Exclusive                                      0.0\n",
       "Scholars Bison Day                                                 0.0\n",
       "Scholars Mixer and Banquet                                         0.0\n",
       "Scholarship Interview                                              0.0\n",
       "Scholarship Interview Registration                                 0.0\n",
       "Softball Visit                                                     0.0\n",
       "Track Visit                                                        0.0\n",
       "Tulsa Bison Exclusive                                              0.0\n",
       "Volleyball Visit                                                   0.0\n",
       "Events Attended Count                                              1.4\n",
       "Enrolled                                                           0.0\n",
       "dtype: object"
      ]
     },
     "execution_count": 26,
     "metadata": {},
     "output_type": "execute_result"
    }
   ],
   "source": [
    "modified_modes"
   ]
  },
  {
   "cell_type": "markdown",
   "id": "eccbfb2e-a961-4f51-bb40-02a93d7a0b4a",
   "metadata": {},
   "source": [
    "# Data Exploration"
   ]
  },
  {
   "cell_type": "code",
   "execution_count": 27,
   "id": "b972bb54-bd6a-40aa-81f5-64d59f68ad09",
   "metadata": {},
   "outputs": [
    {
     "name": "stdout",
     "output_type": "stream",
     "text": [
      "63712\n",
      "62800\n",
      "912\n",
      "Math check: True\n"
     ]
    }
   ],
   "source": [
    "col = \"Enrolled\"\n",
    "total_enrolled = int(df[col].count())\n",
    "total_no = int(df[col][df[col] == \"N\"].count())\n",
    "total_yes = int(df[col][df[col] == \"Y\"].count())\n",
    "print(total_enrolled)\n",
    "print(total_no)\n",
    "print(total_yes)\n",
    "print(f\"Math check: {total_enrolled == (total_no + total_yes)}\")"
   ]
  },
  {
   "cell_type": "code",
   "execution_count": 28,
   "id": "a240375b-fd42-4303-966c-9c395d941829",
   "metadata": {},
   "outputs": [
    {
     "name": "stdout",
     "output_type": "stream",
     "text": [
      "63712\n",
      "24660\n",
      "39052\n",
      "Math check: True\n"
     ]
    }
   ],
   "source": [
    "col = \"Raley College Tag Exists\"\n",
    "total_enrolled = int(df[col].count())\n",
    "total_no = int(df[col][df[col] == \"Not Declared\"].count())\n",
    "total_yes = int(df[col][df[col] == \"Y\"].count())\n",
    "print(total_enrolled)\n",
    "print(total_no)\n",
    "print(total_yes)\n",
    "print(f\"Math check: {total_enrolled == (total_no + total_yes)}\")"
   ]
  },
  {
   "cell_type": "code",
   "execution_count": 29,
   "id": "869cb4fc-dcc9-4772-b172-a28a18e3d1a4",
   "metadata": {},
   "outputs": [
    {
     "name": "stdout",
     "output_type": "stream",
     "text": [
      "Type: T01, count: 2434\n",
      "Type: Athlete, count: 462\n",
      "Type: P02, count: 1531\n",
      "Type: Homeschool, count: 274\n",
      "Type: T04, count: 4482\n",
      "Type: T03, count: 2994\n",
      "Type: T02, count: 2212\n",
      "Type: T06, count: 2888\n",
      "Type: T07, count: 5034\n",
      "Type: T05, count: 2733\n",
      "Type: P01, count: 554\n",
      "Type: Graduate, count: 3\n",
      "Type: T00, count: 650\n",
      "Type: Raley College, count: 37461\n",
      "Math check: True\n"
     ]
    }
   ],
   "source": [
    "col = \"Recruiting Territory\"\n",
    "acc = 0\n",
    "total = df[col].count()\n",
    "types = df[col].unique()\n",
    "for type in types:\n",
    "    count = df[col][df[col] == type].count()\n",
    "    acc += count\n",
    "    print(f\"Type: {type}, count: {count}\")\n",
    "print(f\"Math check: {total == acc}\")"
   ]
  },
  {
   "cell_type": "code",
   "execution_count": null,
   "id": "c60586d1-1ae7-4b1a-b3fd-f5099281ed86",
   "metadata": {},
   "outputs": [],
   "source": []
  }
 ],
 "metadata": {
  "kernelspec": {
   "display_name": "Python 3 (ipykernel)",
   "language": "python",
   "name": "python3"
  },
  "language_info": {
   "codemirror_mode": {
    "name": "ipython",
    "version": 3
   },
   "file_extension": ".py",
   "mimetype": "text/x-python",
   "name": "python",
   "nbconvert_exporter": "python",
   "pygments_lexer": "ipython3",
   "version": "3.12.1"
  }
 },
 "nbformat": 4,
 "nbformat_minor": 5
}
